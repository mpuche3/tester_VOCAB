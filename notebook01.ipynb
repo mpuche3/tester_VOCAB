{
 "cells": [
  {
   "cell_type": "code",
   "execution_count": 1,
   "metadata": {},
   "outputs": [],
   "source": [
    "import os\n",
    "import json\n",
    "\n",
    "def save_sentences():\n",
    "    sentences = []\n",
    "    path_QUESTION = os.path.join(\".\", \"data\", \"questions\")\n",
    "    assert os.path.exists(path_QUESTION)\n",
    "    path = os.path.join(path_QUESTION, \"ALL.json\")\n",
    "    assert os.path.exists(path)\n",
    "    with open(path, \"r\") as file:\n",
    "        data = json.load(file)\n",
    "    for item in data:\n",
    "        sentences.append(item[\"Question\"])\n",
    "        sentences.append(item[\"Explanation\"])\n",
    "    sentences = [sentence.strip() for sentence in sentences if sentence.strip() != \"\"]\n",
    "    sentences = list(set(sentences))\n",
    "    file_path = os.path.join(\".\", \"data\", \"sentences\", \"sentences.json\")\n",
    "    with open(file_path, \"w\") as json_file:\n",
    "        json.dump(sentences, json_file, indent=4)\n",
    "    return sentences\n",
    "\n",
    "# save_sentences()"
   ]
  },
  {
   "cell_type": "code",
   "execution_count": 7,
   "metadata": {},
   "outputs": [],
   "source": [
    "def get_number_of_questions():\n",
    "    data = []\n",
    "    path_QUESTION = os.path.join(\".\", \"data\", \"questions\")\n",
    "    assert os.path.exists(path_QUESTION)\n",
    "    path = os.path.join(path_QUESTION, \"ALL.json\")\n",
    "    assert os.path.exists(path)\n",
    "    with open(path, \"r\") as file:\n",
    "        data = json.load(file)  \n",
    "    return len(data)\n",
    "\n",
    "# get_number_of_questions()"
   ]
  },
  {
   "cell_type": "code",
   "execution_count": 8,
   "metadata": {},
   "outputs": [],
   "source": [
    "def add_id_and_category():\n",
    "    data = []\n",
    "    path_old = os.path.join(\".\", \"data\", \"extra_questions\", \"ALL.json\")\n",
    "    path_new = os.path.join(\".\", \"data\", \"extra_questions\", \"ALL_new.json\")\n",
    "    assert os.path.exists(path_old)\n",
    "    with open(path_old, \"r\") as file:\n",
    "        data = json.load(file)\n",
    "    for num, item in enumerate(data):\n",
    "        item[\"id\"] = \"#\" + str(40000 + num).zfill(5)\n",
    "        item[\"category\"] = \"\"\n",
    "        item[\"Explanation\"] = item[\"Explanation\"] + \".\"\n",
    "    with open(path_new, \"w\") as file:\n",
    "        json.dump(data, file, indent=4)\n",
    "\n",
    "# add_id_and_category()"
   ]
  },
  {
   "cell_type": "code",
   "execution_count": 9,
   "metadata": {},
   "outputs": [],
   "source": [
    "def consolidate_questions():\n",
    "    data = []\n",
    "    path_H = os.path.join(\".\", \"data\", \"questions\", \"History.json\")\n",
    "    path_F = os.path.join(\".\", \"data\", \"questions\", \"Famous.json\")\n",
    "    path_T = os.path.join(\".\", \"data\", \"questions\", \"UK_Today.json\")\n",
    "    path_ALL = os.path.join(\".\", \"data\", \"questions\", \"ALL.json\")\n",
    "    assert os.path.exists(path_H)\n",
    "    assert os.path.exists(path_F)\n",
    "    assert os.path.exists(path_T)\n",
    "    data = []\n",
    "    for path in [path_H, path_F, path_T]:\n",
    "        with open(path, \"r\") as file:\n",
    "            data.extend(json.load(file))\n",
    "    with open(path_ALL, \"w\") as file:\n",
    "        json.dump(data, file, indent=4)\n",
    "    assert os.path.exists(path_ALL)\n",
    "\n",
    "# consolidate_questions()"
   ]
  },
  {
   "cell_type": "code",
   "execution_count": 10,
   "metadata": {},
   "outputs": [],
   "source": [
    "def consolidate_extra_questions():\n",
    "    data = []\n",
    "    path_ALL = os.path.join(\".\", \"data\", \"extra_questions\", \"ALL.json\")\n",
    "    path_EXTRA = os.path.join(\".\", \"data\", \"extra_questions\")\n",
    "    assert os.path.exists(path_EXTRA)\n",
    "    filenames = os.listdir(path_EXTRA)\n",
    "    for filename in filenames:\n",
    "        path = os.path.join(path_EXTRA, filename)\n",
    "        with open(path, \"r\") as file:\n",
    "            data.extend(json.load(file))\n",
    "    with open(path_ALL, \"w\") as file:\n",
    "        json.dump(data, file, indent=4)\n",
    "    assert os.path.exists(path_ALL)\n",
    "\n",
    "# consolidate_extra_questions()"
   ]
  },
  {
   "cell_type": "code",
   "execution_count": null,
   "metadata": {},
   "outputs": [],
   "source": []
  },
  {
   "cell_type": "code",
   "execution_count": null,
   "metadata": {},
   "outputs": [],
   "source": []
  }
 ],
 "metadata": {
  "kernelspec": {
   "display_name": "Python 3",
   "language": "python",
   "name": "python3"
  },
  "language_info": {
   "codemirror_mode": {
    "name": "ipython",
    "version": 3
   },
   "file_extension": ".py",
   "mimetype": "text/x-python",
   "name": "python",
   "nbconvert_exporter": "python",
   "pygments_lexer": "ipython3",
   "version": "3.12.1"
  }
 },
 "nbformat": 4,
 "nbformat_minor": 2
}
